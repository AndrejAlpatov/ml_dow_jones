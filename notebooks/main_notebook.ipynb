{
 "cells": [
  {
   "cell_type": "code",
   "execution_count": 1,
   "metadata": {
    "collapsed": true
   },
   "outputs": [],
   "source": [
    "import matplotlib.pyplot as plt\n",
    "import pandas as pd\n",
    "import numpy as np\n",
    "import seaborn as sns\n",
    "import  os\n",
    "from sklearn.tree import DecisionTreeClassifier\n",
    "from sklearn.model_selection import train_test_split\n",
    "from sklearn.preprocessing import OrdinalEncoder\n",
    "from sklearn.metrics import  accuracy_score\n",
    "from scipy.cluster.hierarchy import linkage, fcluster, dendrogram\n",
    "from scipy.cluster.vq import kmeans, vq\n",
    "\n",
    "DATA_PATH= os.path.join('../data', 'dow_jones_index.data')"
   ]
  },
  {
   "cell_type": "code",
   "execution_count": 2,
   "outputs": [
    {
     "name": "stdout",
     "output_type": "stream",
     "text": [
      "<class 'pandas.core.frame.DataFrame'>\n",
      "RangeIndex: 750 entries, 0 to 749\n",
      "Data columns (total 16 columns):\n",
      " #   Column                              Non-Null Count  Dtype  \n",
      "---  ------                              --------------  -----  \n",
      " 0   quarter                             750 non-null    int64  \n",
      " 1   stock                               750 non-null    object \n",
      " 2   date                                750 non-null    object \n",
      " 3   open                                750 non-null    object \n",
      " 4   high                                750 non-null    object \n",
      " 5   low                                 750 non-null    object \n",
      " 6   close                               750 non-null    object \n",
      " 7   volume                              750 non-null    int64  \n",
      " 8   percent_change_price                750 non-null    float64\n",
      " 9   percent_change_volume_over_last_wk  720 non-null    float64\n",
      " 10  previous_weeks_volume               720 non-null    float64\n",
      " 11  next_weeks_open                     750 non-null    object \n",
      " 12  next_weeks_close                    750 non-null    object \n",
      " 13  percent_change_next_weeks_price     750 non-null    float64\n",
      " 14  days_to_next_dividend               750 non-null    int64  \n",
      " 15  percent_return_next_dividend        750 non-null    float64\n",
      "dtypes: float64(5), int64(3), object(8)\n",
      "memory usage: 93.9+ KB\n"
     ]
    }
   ],
   "source": [
    "df = pd.read_csv(DATA_PATH)\n",
    "df.info()"
   ],
   "metadata": {
    "collapsed": false,
    "pycharm": {
     "name": "#%%\n"
    }
   }
  },
  {
   "cell_type": "code",
   "execution_count": 3,
   "outputs": [
    {
     "data": {
      "text/plain": "   quarter stock       date    open    high     low   close     volume  \\\n0        1    AA   1/7/2011  $15.82  $16.72  $15.78  $16.42  239655616   \n1        1    AA  1/14/2011  $16.71  $16.71  $15.64  $15.97  242963398   \n2        1    AA  1/21/2011  $16.19  $16.38  $15.60  $15.79  138428495   \n3        1    AA  1/28/2011  $15.87  $16.63  $15.82  $16.13  151379173   \n4        1    AA   2/4/2011  $16.18  $17.39  $16.18  $17.14  154387761   \n\n   percent_change_price  percent_change_volume_over_last_wk  \\\n0               3.79267                                 NaN   \n1              -4.42849                            1.380223   \n2              -2.47066                          -43.024959   \n3               1.63831                            9.355500   \n4               5.93325                            1.987452   \n\n   previous_weeks_volume next_weeks_open next_weeks_close  \\\n0                    NaN          $16.71           $15.97   \n1            239655616.0          $16.19           $15.79   \n2            242963398.0          $15.87           $16.13   \n3            138428495.0          $16.18           $17.14   \n4            151379173.0          $17.33           $17.37   \n\n   percent_change_next_weeks_price  days_to_next_dividend  \\\n0                        -4.428490                     26   \n1                        -2.470660                     19   \n2                         1.638310                     12   \n3                         5.933250                      5   \n4                         0.230814                     97   \n\n   percent_return_next_dividend  \n0                      0.182704  \n1                      0.187852  \n2                      0.189994  \n3                      0.185989  \n4                      0.175029  ",
      "text/html": "<div>\n<style scoped>\n    .dataframe tbody tr th:only-of-type {\n        vertical-align: middle;\n    }\n\n    .dataframe tbody tr th {\n        vertical-align: top;\n    }\n\n    .dataframe thead th {\n        text-align: right;\n    }\n</style>\n<table border=\"1\" class=\"dataframe\">\n  <thead>\n    <tr style=\"text-align: right;\">\n      <th></th>\n      <th>quarter</th>\n      <th>stock</th>\n      <th>date</th>\n      <th>open</th>\n      <th>high</th>\n      <th>low</th>\n      <th>close</th>\n      <th>volume</th>\n      <th>percent_change_price</th>\n      <th>percent_change_volume_over_last_wk</th>\n      <th>previous_weeks_volume</th>\n      <th>next_weeks_open</th>\n      <th>next_weeks_close</th>\n      <th>percent_change_next_weeks_price</th>\n      <th>days_to_next_dividend</th>\n      <th>percent_return_next_dividend</th>\n    </tr>\n  </thead>\n  <tbody>\n    <tr>\n      <th>0</th>\n      <td>1</td>\n      <td>AA</td>\n      <td>1/7/2011</td>\n      <td>$15.82</td>\n      <td>$16.72</td>\n      <td>$15.78</td>\n      <td>$16.42</td>\n      <td>239655616</td>\n      <td>3.79267</td>\n      <td>NaN</td>\n      <td>NaN</td>\n      <td>$16.71</td>\n      <td>$15.97</td>\n      <td>-4.428490</td>\n      <td>26</td>\n      <td>0.182704</td>\n    </tr>\n    <tr>\n      <th>1</th>\n      <td>1</td>\n      <td>AA</td>\n      <td>1/14/2011</td>\n      <td>$16.71</td>\n      <td>$16.71</td>\n      <td>$15.64</td>\n      <td>$15.97</td>\n      <td>242963398</td>\n      <td>-4.42849</td>\n      <td>1.380223</td>\n      <td>239655616.0</td>\n      <td>$16.19</td>\n      <td>$15.79</td>\n      <td>-2.470660</td>\n      <td>19</td>\n      <td>0.187852</td>\n    </tr>\n    <tr>\n      <th>2</th>\n      <td>1</td>\n      <td>AA</td>\n      <td>1/21/2011</td>\n      <td>$16.19</td>\n      <td>$16.38</td>\n      <td>$15.60</td>\n      <td>$15.79</td>\n      <td>138428495</td>\n      <td>-2.47066</td>\n      <td>-43.024959</td>\n      <td>242963398.0</td>\n      <td>$15.87</td>\n      <td>$16.13</td>\n      <td>1.638310</td>\n      <td>12</td>\n      <td>0.189994</td>\n    </tr>\n    <tr>\n      <th>3</th>\n      <td>1</td>\n      <td>AA</td>\n      <td>1/28/2011</td>\n      <td>$15.87</td>\n      <td>$16.63</td>\n      <td>$15.82</td>\n      <td>$16.13</td>\n      <td>151379173</td>\n      <td>1.63831</td>\n      <td>9.355500</td>\n      <td>138428495.0</td>\n      <td>$16.18</td>\n      <td>$17.14</td>\n      <td>5.933250</td>\n      <td>5</td>\n      <td>0.185989</td>\n    </tr>\n    <tr>\n      <th>4</th>\n      <td>1</td>\n      <td>AA</td>\n      <td>2/4/2011</td>\n      <td>$16.18</td>\n      <td>$17.39</td>\n      <td>$16.18</td>\n      <td>$17.14</td>\n      <td>154387761</td>\n      <td>5.93325</td>\n      <td>1.987452</td>\n      <td>151379173.0</td>\n      <td>$17.33</td>\n      <td>$17.37</td>\n      <td>0.230814</td>\n      <td>97</td>\n      <td>0.175029</td>\n    </tr>\n  </tbody>\n</table>\n</div>"
     },
     "execution_count": 3,
     "metadata": {},
     "output_type": "execute_result"
    }
   ],
   "source": [
    "df.head()"
   ],
   "metadata": {
    "collapsed": false,
    "pycharm": {
     "name": "#%%\n"
    }
   }
  },
  {
   "cell_type": "code",
   "execution_count": 4,
   "outputs": [
    {
     "data": {
      "text/plain": "quarter                                0\nstock                                  0\ndate                                   0\nopen                                   0\nhigh                                   0\nlow                                    0\nclose                                  0\nvolume                                 0\npercent_change_price                   0\npercent_change_volume_over_last_wk    30\nprevious_weeks_volume                 30\nnext_weeks_open                        0\nnext_weeks_close                       0\npercent_change_next_weeks_price        0\ndays_to_next_dividend                  0\npercent_return_next_dividend           0\ndtype: int64"
     },
     "execution_count": 4,
     "metadata": {},
     "output_type": "execute_result"
    }
   ],
   "source": [
    "df.isnull().sum()"
   ],
   "metadata": {
    "collapsed": false,
    "pycharm": {
     "name": "#%%\n"
    }
   }
  },
  {
   "cell_type": "code",
   "execution_count": 5,
   "outputs": [],
   "source": [
    "df['open'] = df['open'].str.replace('$', '')\n",
    "df['close'] = df['close'].str.replace('$', '')\n",
    "df['high'] = df['high'].str.replace('$', '')\n",
    "df['low'] = df['low'].str.replace('$', '')\n",
    "df['next_weeks_open'] = df['next_weeks_open'].str.replace('$', '')\n",
    "df['next_weeks_close'] = df['next_weeks_close'].str.replace('$', '')\n",
    "\n",
    "df['open'] = df['open'].astype('float')\n",
    "df['close'] = df['close'].astype('float')\n",
    "df['high'] = df['high'].astype('float')\n",
    "df['low'] = df['low'].astype('float')\n",
    "df['next_weeks_open'] = df['next_weeks_open'].astype('float')\n",
    "df['next_weeks_close'] = df['next_weeks_close'].astype('float')\n",
    "\n",
    "df_without_nan = df.fillna(0)"
   ],
   "metadata": {
    "collapsed": false,
    "pycharm": {
     "name": "#%%\n"
    }
   }
  },
  {
   "cell_type": "code",
   "execution_count": 6,
   "outputs": [
    {
     "name": "stdout",
     "output_type": "stream",
     "text": [
      "<class 'pandas.core.frame.DataFrame'>\n",
      "RangeIndex: 750 entries, 0 to 749\n",
      "Data columns (total 16 columns):\n",
      " #   Column                              Non-Null Count  Dtype  \n",
      "---  ------                              --------------  -----  \n",
      " 0   quarter                             750 non-null    int64  \n",
      " 1   stock                               750 non-null    object \n",
      " 2   date                                750 non-null    object \n",
      " 3   open                                750 non-null    float64\n",
      " 4   high                                750 non-null    float64\n",
      " 5   low                                 750 non-null    float64\n",
      " 6   close                               750 non-null    float64\n",
      " 7   volume                              750 non-null    int64  \n",
      " 8   percent_change_price                750 non-null    float64\n",
      " 9   percent_change_volume_over_last_wk  750 non-null    float64\n",
      " 10  previous_weeks_volume               750 non-null    float64\n",
      " 11  next_weeks_open                     750 non-null    float64\n",
      " 12  next_weeks_close                    750 non-null    float64\n",
      " 13  percent_change_next_weeks_price     750 non-null    float64\n",
      " 14  days_to_next_dividend               750 non-null    int64  \n",
      " 15  percent_return_next_dividend        750 non-null    float64\n",
      "dtypes: float64(11), int64(3), object(2)\n",
      "memory usage: 93.9+ KB\n",
      "None\n"
     ]
    }
   ],
   "source": [
    "print(df_without_nan.info())"
   ],
   "metadata": {
    "collapsed": false,
    "pycharm": {
     "name": "#%%\n"
    }
   }
  },
  {
   "cell_type": "code",
   "execution_count": 7,
   "outputs": [
    {
     "data": {
      "text/plain": "MCD     25\nTRV     25\nCVX     25\nWMT     25\nPG      25\nDIS     25\nAA      25\nT       25\nCSCO    25\nBAC     25\nMRK     25\nMMM     25\nINTC    25\nUTX     25\nHD      25\nKRFT    25\nPFE     25\nAXP     25\nKO      25\nIBM     25\nJNJ     25\nBA      25\nCAT     25\nMSFT    25\nJPM     25\nHPQ     25\nXOM     25\nVZ      25\nDD      25\nGE      25\nName: stock, dtype: int64"
     },
     "execution_count": 7,
     "metadata": {},
     "output_type": "execute_result"
    }
   ],
   "source": [
    "df_without_nan.stock.value_counts()"
   ],
   "metadata": {
    "collapsed": false,
    "pycharm": {
     "name": "#%%\n"
    }
   }
  },
  {
   "cell_type": "code",
   "execution_count": 8,
   "outputs": [
    {
     "data": {
      "text/plain": "     quarter   open   high    low  close     volume  percent_change_price  \\\n0          1  15.82  16.72  15.78  16.42  239655616               3.79267   \n1          1  16.71  16.71  15.64  15.97  242963398              -4.42849   \n2          1  16.19  16.38  15.60  15.79  138428495              -2.47066   \n3          1  15.87  16.63  15.82  16.13  151379173               1.63831   \n4          1  16.18  17.39  16.18  17.14  154387761               5.93325   \n..       ...    ...    ...    ...    ...        ...                   ...   \n745        2  80.22  82.63  80.07  82.63   68230855               3.00424   \n746        2  83.28  83.75  80.18  81.18   78616295              -2.52161   \n747        2  80.93  81.87  79.72  79.78   92380844              -1.42098   \n748        2  80.00  80.82  78.33  79.02  100521400              -1.22500   \n749        2  78.65  81.12  76.78  76.78  118679791              -2.37762   \n\n     percent_change_volume_over_last_wk  previous_weeks_volume  \\\n0                              0.000000                    0.0   \n1                              1.380223            239655616.0   \n2                            -43.024959            242963398.0   \n3                              9.355500            138428495.0   \n4                              1.987452            151379173.0   \n..                                  ...                    ...   \n745                          -21.355713             86758820.0   \n746                           15.221032             68230855.0   \n747                           17.508519             78616295.0   \n748                            8.811952             92380844.0   \n749                           18.064204            100521400.0   \n\n     next_weeks_open  next_weeks_close  percent_change_next_weeks_price  \\\n0              16.71             15.97                        -4.428490   \n1              16.19             15.79                        -2.470660   \n2              15.87             16.13                         1.638310   \n3              16.18             17.14                         5.933250   \n4              17.33             17.37                         0.230814   \n..               ...               ...                              ...   \n745            83.28             81.18                        -2.521610   \n746            80.93             79.78                        -1.420980   \n747            80.00             79.02                        -1.225000   \n748            78.65             76.78                        -2.377620   \n749            76.88             82.01                         6.672740   \n\n     days_to_next_dividend  percent_return_next_dividend  \n0                       26                      0.182704  \n1                       19                      0.187852  \n2                       12                      0.189994  \n3                        5                      0.185989  \n4                       97                      0.175029  \n..                     ...                           ...  \n745                     75                      0.568801  \n746                     68                      0.578960  \n747                     61                      0.589120  \n748                     54                      0.594786  \n749                     47                      0.612139  \n\n[750 rows x 14 columns]",
      "text/html": "<div>\n<style scoped>\n    .dataframe tbody tr th:only-of-type {\n        vertical-align: middle;\n    }\n\n    .dataframe tbody tr th {\n        vertical-align: top;\n    }\n\n    .dataframe thead th {\n        text-align: right;\n    }\n</style>\n<table border=\"1\" class=\"dataframe\">\n  <thead>\n    <tr style=\"text-align: right;\">\n      <th></th>\n      <th>quarter</th>\n      <th>open</th>\n      <th>high</th>\n      <th>low</th>\n      <th>close</th>\n      <th>volume</th>\n      <th>percent_change_price</th>\n      <th>percent_change_volume_over_last_wk</th>\n      <th>previous_weeks_volume</th>\n      <th>next_weeks_open</th>\n      <th>next_weeks_close</th>\n      <th>percent_change_next_weeks_price</th>\n      <th>days_to_next_dividend</th>\n      <th>percent_return_next_dividend</th>\n    </tr>\n  </thead>\n  <tbody>\n    <tr>\n      <th>0</th>\n      <td>1</td>\n      <td>15.82</td>\n      <td>16.72</td>\n      <td>15.78</td>\n      <td>16.42</td>\n      <td>239655616</td>\n      <td>3.79267</td>\n      <td>0.000000</td>\n      <td>0.0</td>\n      <td>16.71</td>\n      <td>15.97</td>\n      <td>-4.428490</td>\n      <td>26</td>\n      <td>0.182704</td>\n    </tr>\n    <tr>\n      <th>1</th>\n      <td>1</td>\n      <td>16.71</td>\n      <td>16.71</td>\n      <td>15.64</td>\n      <td>15.97</td>\n      <td>242963398</td>\n      <td>-4.42849</td>\n      <td>1.380223</td>\n      <td>239655616.0</td>\n      <td>16.19</td>\n      <td>15.79</td>\n      <td>-2.470660</td>\n      <td>19</td>\n      <td>0.187852</td>\n    </tr>\n    <tr>\n      <th>2</th>\n      <td>1</td>\n      <td>16.19</td>\n      <td>16.38</td>\n      <td>15.60</td>\n      <td>15.79</td>\n      <td>138428495</td>\n      <td>-2.47066</td>\n      <td>-43.024959</td>\n      <td>242963398.0</td>\n      <td>15.87</td>\n      <td>16.13</td>\n      <td>1.638310</td>\n      <td>12</td>\n      <td>0.189994</td>\n    </tr>\n    <tr>\n      <th>3</th>\n      <td>1</td>\n      <td>15.87</td>\n      <td>16.63</td>\n      <td>15.82</td>\n      <td>16.13</td>\n      <td>151379173</td>\n      <td>1.63831</td>\n      <td>9.355500</td>\n      <td>138428495.0</td>\n      <td>16.18</td>\n      <td>17.14</td>\n      <td>5.933250</td>\n      <td>5</td>\n      <td>0.185989</td>\n    </tr>\n    <tr>\n      <th>4</th>\n      <td>1</td>\n      <td>16.18</td>\n      <td>17.39</td>\n      <td>16.18</td>\n      <td>17.14</td>\n      <td>154387761</td>\n      <td>5.93325</td>\n      <td>1.987452</td>\n      <td>151379173.0</td>\n      <td>17.33</td>\n      <td>17.37</td>\n      <td>0.230814</td>\n      <td>97</td>\n      <td>0.175029</td>\n    </tr>\n    <tr>\n      <th>...</th>\n      <td>...</td>\n      <td>...</td>\n      <td>...</td>\n      <td>...</td>\n      <td>...</td>\n      <td>...</td>\n      <td>...</td>\n      <td>...</td>\n      <td>...</td>\n      <td>...</td>\n      <td>...</td>\n      <td>...</td>\n      <td>...</td>\n      <td>...</td>\n    </tr>\n    <tr>\n      <th>745</th>\n      <td>2</td>\n      <td>80.22</td>\n      <td>82.63</td>\n      <td>80.07</td>\n      <td>82.63</td>\n      <td>68230855</td>\n      <td>3.00424</td>\n      <td>-21.355713</td>\n      <td>86758820.0</td>\n      <td>83.28</td>\n      <td>81.18</td>\n      <td>-2.521610</td>\n      <td>75</td>\n      <td>0.568801</td>\n    </tr>\n    <tr>\n      <th>746</th>\n      <td>2</td>\n      <td>83.28</td>\n      <td>83.75</td>\n      <td>80.18</td>\n      <td>81.18</td>\n      <td>78616295</td>\n      <td>-2.52161</td>\n      <td>15.221032</td>\n      <td>68230855.0</td>\n      <td>80.93</td>\n      <td>79.78</td>\n      <td>-1.420980</td>\n      <td>68</td>\n      <td>0.578960</td>\n    </tr>\n    <tr>\n      <th>747</th>\n      <td>2</td>\n      <td>80.93</td>\n      <td>81.87</td>\n      <td>79.72</td>\n      <td>79.78</td>\n      <td>92380844</td>\n      <td>-1.42098</td>\n      <td>17.508519</td>\n      <td>78616295.0</td>\n      <td>80.00</td>\n      <td>79.02</td>\n      <td>-1.225000</td>\n      <td>61</td>\n      <td>0.589120</td>\n    </tr>\n    <tr>\n      <th>748</th>\n      <td>2</td>\n      <td>80.00</td>\n      <td>80.82</td>\n      <td>78.33</td>\n      <td>79.02</td>\n      <td>100521400</td>\n      <td>-1.22500</td>\n      <td>8.811952</td>\n      <td>92380844.0</td>\n      <td>78.65</td>\n      <td>76.78</td>\n      <td>-2.377620</td>\n      <td>54</td>\n      <td>0.594786</td>\n    </tr>\n    <tr>\n      <th>749</th>\n      <td>2</td>\n      <td>78.65</td>\n      <td>81.12</td>\n      <td>76.78</td>\n      <td>76.78</td>\n      <td>118679791</td>\n      <td>-2.37762</td>\n      <td>18.064204</td>\n      <td>100521400.0</td>\n      <td>76.88</td>\n      <td>82.01</td>\n      <td>6.672740</td>\n      <td>47</td>\n      <td>0.612139</td>\n    </tr>\n  </tbody>\n</table>\n<p>750 rows × 14 columns</p>\n</div>"
     },
     "execution_count": 8,
     "metadata": {},
     "output_type": "execute_result"
    }
   ],
   "source": [
    "labels=df['stock']\n",
    "df_work=df_without_nan.copy(deep=True)\n",
    "df_work.drop('stock', inplace=True, axis=1)\n",
    "dates=df_work.drop('date', inplace=True, axis=1)\n",
    "df_work"
   ],
   "metadata": {
    "collapsed": false,
    "pycharm": {
     "name": "#%%\n"
    }
   }
  },
  {
   "cell_type": "code",
   "execution_count": 9,
   "outputs": [],
   "source": [
    "labels = np.array(labels).reshape(-1, 1)\n",
    "\n",
    "ord_encoder=OrdinalEncoder()\n",
    "labels_encoded=ord_encoder.fit_transform(labels)\n"
   ],
   "metadata": {
    "collapsed": false,
    "pycharm": {
     "name": "#%%\n"
    }
   }
  },
  {
   "cell_type": "code",
   "execution_count": 10,
   "outputs": [
    {
     "name": "stdout",
     "output_type": "stream",
     "text": [
      "Accuracy score of decision tree classifier: 0.9467\n"
     ]
    }
   ],
   "source": [
    "dt =DecisionTreeClassifier()\n",
    "X_train, X_test, y_train, y_test = train_test_split(df_work, labels_encoded, random_state=42, test_size=0.3)\n",
    "dt.fit(X_train, y_train)\n",
    "y_pred=dt.predict(X_test)\n",
    "\n",
    "print('Accuracy score of decision tree classifier: {:.4f}'.format(accuracy_score(y_test, y_pred)))"
   ],
   "metadata": {
    "collapsed": false,
    "pycharm": {
     "name": "#%%\n"
    }
   }
  },
  {
   "cell_type": "code",
   "execution_count": 11,
   "outputs": [
    {
     "data": {
      "text/plain": "<Figure size 432x288 with 1 Axes>",
      "image/png": "[encoded data removed]"
     },
     "metadata": {
      "needs_background": "light"
     },
     "output_type": "display_data"
    }
   ],
   "source": [
    "distance_matrix=linkage(df_work)\n",
    "dn=dendrogram(distance_matrix)"
   ],
   "metadata": {
    "collapsed": false,
    "pycharm": {
     "name": "#%%\n"
    }
   }
  },
  {
   "cell_type": "code",
   "execution_count": 12,
   "outputs": [
    {
     "data": {
      "text/plain": "<Figure size 432x288 with 1 Axes>",
      "image/png": "[encoded data removed]"
     },
     "metadata": {
      "needs_background": "light"
     },
     "output_type": "display_data"
    }
   ],
   "source": [
    "distortions=[]\n",
    "num_clusters=range(1,10)\n",
    "\n",
    "for i in num_clusters:\n",
    "    cluster_center, distortion = kmeans(df_work, i)\n",
    "    distortions.append(distortion)\n",
    "\n",
    "df_for_kmeans=pd.DataFrame({'num_Clusters':num_clusters, 'distortion':distortions})\n",
    "\n",
    "sns.lineplot(x='num_Clusters', y='distortion', data=df_for_kmeans)\n",
    "plt.show()"
   ],
   "metadata": {
    "collapsed": false,
    "pycharm": {
     "name": "#%%\n"
    }
   }
  },
  {
   "cell_type": "code",
   "execution_count": 18,
   "outputs": [],
   "source": [
    "cluster_center, _ = kmeans(df_work, 4)\n",
    "df_work['cluster_label'], distortions_list = vq(df_work, cluster_center)"
   ],
   "metadata": {
    "collapsed": false,
    "pycharm": {
     "name": "#%%\n"
    }
   }
  },
  {
   "cell_type": "code",
   "execution_count": 19,
   "outputs": [
    {
     "data": {
      "text/plain": "     quarter   open   high    low  close     volume  percent_change_price  \\\n0          1  15.82  16.72  15.78  16.42  239655616               3.79267   \n1          1  16.71  16.71  15.64  15.97  242963398              -4.42849   \n2          1  16.19  16.38  15.60  15.79  138428495              -2.47066   \n3          1  15.87  16.63  15.82  16.13  151379173               1.63831   \n4          1  16.18  17.39  16.18  17.14  154387761               5.93325   \n..       ...    ...    ...    ...    ...        ...                   ...   \n745        2  80.22  82.63  80.07  82.63   68230855               3.00424   \n746        2  83.28  83.75  80.18  81.18   78616295              -2.52161   \n747        2  80.93  81.87  79.72  79.78   92380844              -1.42098   \n748        2  80.00  80.82  78.33  79.02  100521400              -1.22500   \n749        2  78.65  81.12  76.78  76.78  118679791              -2.37762   \n\n     percent_change_volume_over_last_wk  previous_weeks_volume  \\\n0                              0.000000                    0.0   \n1                              1.380223            239655616.0   \n2                            -43.024959            242963398.0   \n3                              9.355500            138428495.0   \n4                              1.987452            151379173.0   \n..                                  ...                    ...   \n745                          -21.355713             86758820.0   \n746                           15.221032             68230855.0   \n747                           17.508519             78616295.0   \n748                            8.811952             92380844.0   \n749                           18.064204            100521400.0   \n\n     next_weeks_open  next_weeks_close  percent_change_next_weeks_price  \\\n0              16.71             15.97                        -4.428490   \n1              16.19             15.79                        -2.470660   \n2              15.87             16.13                         1.638310   \n3              16.18             17.14                         5.933250   \n4              17.33             17.37                         0.230814   \n..               ...               ...                              ...   \n745            83.28             81.18                        -2.521610   \n746            80.93             79.78                        -1.420980   \n747            80.00             79.02                        -1.225000   \n748            78.65             76.78                        -2.377620   \n749            76.88             82.01                         6.672740   \n\n     days_to_next_dividend  percent_return_next_dividend  cluster_label  \n0                       26                      0.182704              2  \n1                       19                      0.187852              3  \n2                       12                      0.189994              2  \n3                        5                      0.185989              2  \n4                       97                      0.175029              2  \n..                     ...                           ...            ...  \n745                     75                      0.568801              1  \n746                     68                      0.578960              1  \n747                     61                      0.589120              2  \n748                     54                      0.594786              2  \n749                     47                      0.612139              2  \n\n[750 rows x 15 columns]",
      "text/html": "<div>\n<style scoped>\n    .dataframe tbody tr th:only-of-type {\n        vertical-align: middle;\n    }\n\n    .dataframe tbody tr th {\n        vertical-align: top;\n    }\n\n    .dataframe thead th {\n        text-align: right;\n    }\n</style>\n<table border=\"1\" class=\"dataframe\">\n  <thead>\n    <tr style=\"text-align: right;\">\n      <th></th>\n      <th>quarter</th>\n      <th>open</th>\n      <th>high</th>\n      <th>low</th>\n      <th>close</th>\n      <th>volume</th>\n      <th>percent_change_price</th>\n      <th>percent_change_volume_over_last_wk</th>\n      <th>previous_weeks_volume</th>\n      <th>next_weeks_open</th>\n      <th>next_weeks_close</th>\n      <th>percent_change_next_weeks_price</th>\n      <th>days_to_next_dividend</th>\n      <th>percent_return_next_dividend</th>\n      <th>cluster_label</th>\n    </tr>\n  </thead>\n  <tbody>\n    <tr>\n      <th>0</th>\n      <td>1</td>\n      <td>15.82</td>\n      <td>16.72</td>\n      <td>15.78</td>\n      <td>16.42</td>\n      <td>239655616</td>\n      <td>3.79267</td>\n      <td>0.000000</td>\n      <td>0.0</td>\n      <td>16.71</td>\n      <td>15.97</td>\n      <td>-4.428490</td>\n      <td>26</td>\n      <td>0.182704</td>\n      <td>2</td>\n    </tr>\n    <tr>\n      <th>1</th>\n      <td>1</td>\n      <td>16.71</td>\n      <td>16.71</td>\n      <td>15.64</td>\n      <td>15.97</td>\n      <td>242963398</td>\n      <td>-4.42849</td>\n      <td>1.380223</td>\n      <td>239655616.0</td>\n      <td>16.19</td>\n      <td>15.79</td>\n      <td>-2.470660</td>\n      <td>19</td>\n      <td>0.187852</td>\n      <td>3</td>\n    </tr>\n    <tr>\n      <th>2</th>\n      <td>1</td>\n      <td>16.19</td>\n      <td>16.38</td>\n      <td>15.60</td>\n      <td>15.79</td>\n      <td>138428495</td>\n      <td>-2.47066</td>\n      <td>-43.024959</td>\n      <td>242963398.0</td>\n      <td>15.87</td>\n      <td>16.13</td>\n      <td>1.638310</td>\n      <td>12</td>\n      <td>0.189994</td>\n      <td>2</td>\n    </tr>\n    <tr>\n      <th>3</th>\n      <td>1</td>\n      <td>15.87</td>\n      <td>16.63</td>\n      <td>15.82</td>\n      <td>16.13</td>\n      <td>151379173</td>\n      <td>1.63831</td>\n      <td>9.355500</td>\n      <td>138428495.0</td>\n      <td>16.18</td>\n      <td>17.14</td>\n      <td>5.933250</td>\n      <td>5</td>\n      <td>0.185989</td>\n      <td>2</td>\n    </tr>\n    <tr>\n      <th>4</th>\n      <td>1</td>\n      <td>16.18</td>\n      <td>17.39</td>\n      <td>16.18</td>\n      <td>17.14</td>\n      <td>154387761</td>\n      <td>5.93325</td>\n      <td>1.987452</td>\n      <td>151379173.0</td>\n      <td>17.33</td>\n      <td>17.37</td>\n      <td>0.230814</td>\n      <td>97</td>\n      <td>0.175029</td>\n      <td>2</td>\n    </tr>\n    <tr>\n      <th>...</th>\n      <td>...</td>\n      <td>...</td>\n      <td>...</td>\n      <td>...</td>\n      <td>...</td>\n      <td>...</td>\n      <td>...</td>\n      <td>...</td>\n      <td>...</td>\n      <td>...</td>\n      <td>...</td>\n      <td>...</td>\n      <td>...</td>\n      <td>...</td>\n      <td>...</td>\n    </tr>\n    <tr>\n      <th>745</th>\n      <td>2</td>\n      <td>80.22</td>\n      <td>82.63</td>\n      <td>80.07</td>\n      <td>82.63</td>\n      <td>68230855</td>\n      <td>3.00424</td>\n      <td>-21.355713</td>\n      <td>86758820.0</td>\n      <td>83.28</td>\n      <td>81.18</td>\n      <td>-2.521610</td>\n      <td>75</td>\n      <td>0.568801</td>\n      <td>1</td>\n    </tr>\n    <tr>\n      <th>746</th>\n      <td>2</td>\n      <td>83.28</td>\n      <td>83.75</td>\n      <td>80.18</td>\n      <td>81.18</td>\n      <td>78616295</td>\n      <td>-2.52161</td>\n      <td>15.221032</td>\n      <td>68230855.0</td>\n      <td>80.93</td>\n      <td>79.78</td>\n      <td>-1.420980</td>\n      <td>68</td>\n      <td>0.578960</td>\n      <td>1</td>\n    </tr>\n    <tr>\n      <th>747</th>\n      <td>2</td>\n      <td>80.93</td>\n      <td>81.87</td>\n      <td>79.72</td>\n      <td>79.78</td>\n      <td>92380844</td>\n      <td>-1.42098</td>\n      <td>17.508519</td>\n      <td>78616295.0</td>\n      <td>80.00</td>\n      <td>79.02</td>\n      <td>-1.225000</td>\n      <td>61</td>\n      <td>0.589120</td>\n      <td>2</td>\n    </tr>\n    <tr>\n      <th>748</th>\n      <td>2</td>\n      <td>80.00</td>\n      <td>80.82</td>\n      <td>78.33</td>\n      <td>79.02</td>\n      <td>100521400</td>\n      <td>-1.22500</td>\n      <td>8.811952</td>\n      <td>92380844.0</td>\n      <td>78.65</td>\n      <td>76.78</td>\n      <td>-2.377620</td>\n      <td>54</td>\n      <td>0.594786</td>\n      <td>2</td>\n    </tr>\n    <tr>\n      <th>749</th>\n      <td>2</td>\n      <td>78.65</td>\n      <td>81.12</td>\n      <td>76.78</td>\n      <td>76.78</td>\n      <td>118679791</td>\n      <td>-2.37762</td>\n      <td>18.064204</td>\n      <td>100521400.0</td>\n      <td>76.88</td>\n      <td>82.01</td>\n      <td>6.672740</td>\n      <td>47</td>\n      <td>0.612139</td>\n      <td>2</td>\n    </tr>\n  </tbody>\n</table>\n<p>750 rows × 15 columns</p>\n</div>"
     },
     "execution_count": 19,
     "metadata": {},
     "output_type": "execute_result"
    }
   ],
   "source": [],
   "metadata": {
    "collapsed": false,
    "pycharm": {
     "name": "#%%\n"
    }
   }
  }
 ],
 "metadata": {
  "kernelspec": {
   "name": "python3",
   "language": "python",
   "display_name": "Python 3"
  },
  "language_info": {
   "codemirror_mode": {
    "name": "ipython",
    "version": 2
   },
   "file_extension": ".py",
   "mimetype": "text/x-python",
   "name": "python",
   "nbconvert_exporter": "python",
   "pygments_lexer": "ipython2",
   "version": "2.7.6"
  }
 },
 "nbformat": 4,
 "nbformat_minor": 0
}